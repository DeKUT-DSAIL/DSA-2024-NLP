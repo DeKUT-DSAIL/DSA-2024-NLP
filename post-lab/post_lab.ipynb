{
  "cells": [
    {
      "cell_type": "markdown",
      "metadata": {
        "id": "view-in-github",
        "colab_type": "text"
      },
      "source": [
        "<a href=\"https://colab.research.google.com/github/DeKUT-DSAIL/dsa-2024-nlp/blob/main/post-lab/post_lab.ipynb\" target=\"_parent\"><img src=\"https://colab.research.google.com/assets/colab-badge.svg\" alt=\"Open In Colab\"/></a>"
      ]
    },
    {
      "cell_type": "markdown",
      "metadata": {
        "id": "PzahbHOKuBfL"
      },
      "source": [
        "# Post NLP Lab\n",
        "You can run this notebook after the nlp lab at your own time. It is meant to help you understand the differences between simple representations and LLMs. If you do decide to run it, ensure you have first loaded the reuters dataset from the text cleaning section."
      ]
    },
    {
      "cell_type": "code",
      "execution_count": null,
      "metadata": {
        "id": "T8WQe1BWsPvO",
        "outputId": "33160cd7-c71c-4ab4-8b7f-35e254d63b07"
      },
      "outputs": [
        {
          "name": "stdout",
          "output_type": "stream",
          "text": [
            "Requirement already satisfied: contractions in /Users/andreasd/.pyenv/versions/3.10.4/envs/llms-3.10.4/lib/python3.10/site-packages (0.1.73)\n",
            "Requirement already satisfied: textsearch>=0.0.21 in /Users/andreasd/.pyenv/versions/3.10.4/envs/llms-3.10.4/lib/python3.10/site-packages (from contractions) (0.0.24)\n",
            "Requirement already satisfied: anyascii in /Users/andreasd/.pyenv/versions/3.10.4/envs/llms-3.10.4/lib/python3.10/site-packages (from textsearch>=0.0.21->contractions) (0.3.2)\n",
            "Requirement already satisfied: pyahocorasick in /Users/andreasd/.pyenv/versions/3.10.4/envs/llms-3.10.4/lib/python3.10/site-packages (from textsearch>=0.0.21->contractions) (2.1.0)\n",
            "Requirement already satisfied: nltk in /Users/andreasd/.pyenv/versions/3.10.4/envs/llms-3.10.4/lib/python3.10/site-packages (3.8.1)\n",
            "Requirement already satisfied: click in /Users/andreasd/.pyenv/versions/3.10.4/envs/llms-3.10.4/lib/python3.10/site-packages (from nltk) (8.1.7)\n",
            "Requirement already satisfied: joblib in /Users/andreasd/.pyenv/versions/3.10.4/envs/llms-3.10.4/lib/python3.10/site-packages (from nltk) (1.4.0)\n",
            "Requirement already satisfied: regex>=2021.8.3 in /Users/andreasd/.pyenv/versions/3.10.4/envs/llms-3.10.4/lib/python3.10/site-packages (from nltk) (2024.4.16)\n",
            "Requirement already satisfied: tqdm in /Users/andreasd/.pyenv/versions/3.10.4/envs/llms-3.10.4/lib/python3.10/site-packages (from nltk) (4.66.2)\n",
            "Requirement already satisfied: gensim in /Users/andreasd/.pyenv/versions/3.10.4/envs/llms-3.10.4/lib/python3.10/site-packages (4.3.2)\n",
            "Requirement already satisfied: numpy>=1.18.5 in /Users/andreasd/.pyenv/versions/3.10.4/envs/llms-3.10.4/lib/python3.10/site-packages (from gensim) (1.26.4)\n",
            "Requirement already satisfied: scipy>=1.7.0 in /Users/andreasd/.pyenv/versions/3.10.4/envs/llms-3.10.4/lib/python3.10/site-packages (from gensim) (1.10.1)\n",
            "Requirement already satisfied: smart-open>=1.8.1 in /Users/andreasd/.pyenv/versions/3.10.4/envs/llms-3.10.4/lib/python3.10/site-packages (from gensim) (6.4.0)\n"
          ]
        }
      ],
      "source": [
        "# Install packages\n",
        "! pip install contractions\n",
        "! pip install nltk\n",
        "! pip install gensim"
      ]
    },
    {
      "cell_type": "code",
      "execution_count": null,
      "metadata": {
        "id": "1LiRB-cqtiUv"
      },
      "outputs": [],
      "source": [
        "# Load dependencies\n",
        "import numpy as np\n",
        "import re\n",
        "import requests\n",
        "import nltk\n",
        "nltk.download('wordnet', quiet=True)\n",
        "nltk.download('stopwords', quiet=True)\n",
        "nltk.download('omw-1.4', quiet=True)\n",
        "nltk.download('punkt', quiet=True)\n",
        "nltk.download('averaged_perceptron_tagger', quiet=True)\n",
        "from nltk.corpus import gutenberg, stopwords, wordnet\n",
        "from nltk import FreqDist, word_tokenize, pos_tag\n",
        "from nltk.stem import WordNetLemmatizer\n",
        "from nltk.collocations import BigramCollocationFinder, TrigramCollocationFinder\n",
        "from nltk.util import trigrams\n",
        "from sklearn.feature_extraction.text import TfidfVectorizer, CountVectorizer\n",
        "from collections import Counter\n",
        "import spacy\n",
        "from spacy.tokenizer import Tokenizer\n",
        "import math\n",
        "import contractions\n",
        "from itertools import islice"
      ]
    },
    {
      "cell_type": "code",
      "execution_count": null,
      "metadata": {
        "colab": {
          "base_uri": "https://localhost:8080/"
        },
        "id": "0AM1sWrG2fH2",
        "outputId": "cd5e7d49-37ed-491e-f238-781577817678"
      },
      "outputs": [
        {
          "name": "stdout",
          "output_type": "stream",
          "text": [
            "['tok2vec', 'tagger', 'parser', 'attribute_ruler', 'lemmatizer', 'ner']\n"
          ]
        }
      ],
      "source": [
        "# Init spacy\n",
        "nlp = spacy.load('en_core_web_sm')\n",
        "print(nlp.pipe_names)"
      ]
    },
    {
      "cell_type": "markdown",
      "metadata": {
        "id": "w502L2OwsPvQ"
      },
      "source": [
        "## Download dataset and set up basic functions"
      ]
    },
    {
      "cell_type": "code",
      "execution_count": null,
      "metadata": {
        "id": "iC3awl1ksPvQ",
        "outputId": "ae2bfb63-c90d-4779-a34d-7479d32060b5"
      },
      "outputs": [
        {
          "name": "stderr",
          "output_type": "stream",
          "text": [
            "[nltk_data] Downloading package reuters to\n",
            "[nltk_data]     /Users/andreasd/nltk_data...\n",
            "[nltk_data]   Package reuters is already up-to-date!\n"
          ]
        }
      ],
      "source": [
        "nltk.download('reuters')\n",
        "from nltk.corpus import reuters\n",
        "categories = ['nickel', 'gold', 'silver', 'tea', 'barley', 'fuel', 'crude', 'gas', 'heat']\n",
        "fields_for_categories = []\n",
        "docs_per_category = 10\n",
        "for c in categories:\n",
        "  fields_for_categories.append(reuters.fileids(c)[0:docs_per_category])\n"
      ]
    },
    {
      "cell_type": "code",
      "execution_count": null,
      "metadata": {
        "id": "vamENAOlsPvQ"
      },
      "outputs": [],
      "source": [
        "def clean_text1(text):\n",
        "  text = contractions.fix(text) # Fix contractions\n",
        "  text = text.lower() # lowercase the text\n",
        "  text = text.replace('\\n', ' ') # replace new line characters with whitespace\n",
        "  text = re.sub(r\"[^\\w\\s']\", ' ', text) # Remove non-word characters, except apostroophes - to handle possessives correctly e.g \"John's\"\n",
        "  text = text.strip() # Remove extra whitespace\n",
        "\n",
        "  ## -- Tokenize, lemmatize, remove stopwords -- ##\n",
        "  doc = nlp(text)\n",
        "  tokens = [token.lemma_ for token in doc if not token.is_stop and not token.is_punct] # Lemmatize and exclude stopwords\n",
        "  text = \" \".join(tokens)\n",
        "  # Remove any additional extra whitespace\n",
        "  text = re.sub(r'\\s+', ' ', text).strip()\n",
        "\n",
        "  return text"
      ]
    },
    {
      "cell_type": "markdown",
      "metadata": {
        "id": "eBZayy9LsPvQ"
      },
      "source": [
        "## Continuous representations vs TfIDF"
      ]
    },
    {
      "cell_type": "markdown",
      "metadata": {
        "id": "zx2SKFMosPvQ"
      },
      "source": [
        "In the main lab we discussed word2vec as a continuous representation. Here, let's explore the glove vectors, computed on a dataset from twitter."
      ]
    },
    {
      "cell_type": "code",
      "execution_count": null,
      "metadata": {
        "id": "B3ZHPMxPsPvQ"
      },
      "outputs": [],
      "source": [
        "import gensim.downloader as api\n",
        "model_glove_twitter = api.load(\"glove-twitter-25\")"
      ]
    },
    {
      "cell_type": "markdown",
      "metadata": {
        "id": "26piTVp9sPvQ"
      },
      "source": [
        "This model transforms words into continuous representations. It doesn't need to be trained on our dataset because it's trained on a much bigger dataset which is in english. So we hope that since our dataset is also in English, we can use it. Let's test it:"
      ]
    },
    {
      "cell_type": "code",
      "execution_count": null,
      "metadata": {
        "id": "b4_n-sPVsPvQ",
        "outputId": "1d938f68-d628-4b2c-e7b0-8237584c957a"
      },
      "outputs": [
        {
          "data": {
            "text/plain": [
              "[('silver', 0.9574297666549683),\n",
              " ('blue', 0.9178594946861267),\n",
              " ('crown', 0.9062464237213135),\n",
              " ('diamond', 0.904084324836731),\n",
              " ('green', 0.9032608270645142),\n",
              " ('platinum', 0.896143913269043),\n",
              " ('black', 0.889187753200531),\n",
              " ('crystal', 0.889158308506012),\n",
              " ('red', 0.8877547979354858),\n",
              " ('white', 0.8857155442237854)]"
            ]
          },
          "execution_count": 7,
          "metadata": {},
          "output_type": "execute_result"
        }
      ],
      "source": [
        "model_glove_twitter.most_similar('gold')"
      ]
    },
    {
      "cell_type": "markdown",
      "metadata": {
        "id": "cjWYZkV6sPvR"
      },
      "source": [
        "These are the most similar words to `gold` in the english dataset that the model was trained on.\n",
        "Let's see if we can train a model on our own corpus and compare the results.\n",
        "\n",
        "First, let's re-shape our data from Reuters into sentences."
      ]
    },
    {
      "cell_type": "code",
      "execution_count": null,
      "metadata": {
        "id": "eFq3XyGcsPvR"
      },
      "outputs": [],
      "source": [
        "sentence_data = []\n",
        "categories_sentence_data = []\n",
        "\n",
        "for j in range(len(fields_for_categories)):\n",
        "  for i in reuters.sents(fields_for_categories[j]):\n",
        "      cur = [tmp for tmp in clean_text1(' '.join(i)).split(' ')]\n",
        "      # Remove standalone numbers\n",
        "      cur = [tmp for tmp in cur if not tmp.isnumeric()]\n",
        "      sentence_data.append(cur)\n",
        "      categories_sentence_data.append(categories[j])"
      ]
    },
    {
      "cell_type": "markdown",
      "metadata": {
        "id": "okbwzGc6sPvR"
      },
      "source": [
        "Now, we will train our own word2vec model. It will be trained only on the small set of Reuters articles we have. This is text of a particular domain (it has to do with trade etc) so the word similarities might now be exactly what you'd expect from \"normal\" english language! Let's see!"
      ]
    },
    {
      "cell_type": "code",
      "execution_count": null,
      "metadata": {
        "id": "In6I4m89sPvR"
      },
      "outputs": [],
      "source": [
        "from gensim.models import Word2Vec\n",
        "import gensim"
      ]
    },
    {
      "cell_type": "code",
      "execution_count": null,
      "metadata": {
        "id": "8XmVfwRVsPvR"
      },
      "outputs": [],
      "source": [
        "model2 = Word2Vec(min_count=2,window=2, vector_size=50)"
      ]
    },
    {
      "cell_type": "code",
      "execution_count": null,
      "metadata": {
        "id": "Ca1AsvZGsPvR"
      },
      "outputs": [],
      "source": [
        "model2.build_vocab(sentence_data, progress_per=10000)"
      ]
    },
    {
      "cell_type": "code",
      "execution_count": null,
      "metadata": {
        "id": "6z0ucgVBsPvR",
        "outputId": "d5377eb7-d962-4dc4-a5da-b5ace5aaa3e8"
      },
      "outputs": [
        {
          "data": {
            "text/plain": [
              "(1562085, 2041200)"
            ]
          },
          "execution_count": 12,
          "metadata": {},
          "output_type": "execute_result"
        }
      ],
      "source": [
        "model2.train(sentence_data, total_examples=len(sentence_data), epochs=200, report_delay=1)"
      ]
    },
    {
      "cell_type": "code",
      "execution_count": null,
      "metadata": {
        "id": "N3WxmiarsPvR",
        "outputId": "46792fc4-5599-4a4c-9522-4b08bdf18167"
      },
      "outputs": [
        {
          "data": {
            "text/plain": [
              "[('bullion', 0.5874730348587036),\n",
              " ('item', 0.5840972661972046),\n",
              " ('bear', 0.5654229521751404),\n",
              " ('deposit', 0.5583978891372681),\n",
              " ('nugget', 0.551899254322052),\n",
              " ('nicel', 0.5508739948272705),\n",
              " ('article', 0.547793447971344),\n",
              " ('zurich', 0.5427208542823792),\n",
              " ('property', 0.5424924492835999),\n",
              " ('hallmarke', 0.5371420383453369)]"
            ]
          },
          "execution_count": 13,
          "metadata": {},
          "output_type": "execute_result"
        }
      ],
      "source": [
        "model2.wv.most_similar('gold')"
      ]
    },
    {
      "cell_type": "markdown",
      "metadata": {
        "id": "Bcvh0lUpsPvR"
      },
      "source": [
        "Not bad! We see that words like \"bear\", \"zurich\" and \"purchase\" are marked higher than in normal english language, because the training set is from articles of a particular type, related to trade, markets etc. The model does not have knowledge of the english language besides what it has seen in this dataset!\n",
        "\n",
        "Let's explore a bit more...  "
      ]
    },
    {
      "cell_type": "code",
      "execution_count": null,
      "metadata": {
        "id": "wd5v0rTisPvR",
        "outputId": "a5523ff7-d698-45f0-8020-25c57ec61918"
      },
      "outputs": [
        {
          "data": {
            "text/plain": [
              "0.46009794"
            ]
          },
          "execution_count": 14,
          "metadata": {},
          "output_type": "execute_result"
        }
      ],
      "source": [
        "model2.wv.similarity('new', 'york') # high similarity"
      ]
    },
    {
      "cell_type": "code",
      "execution_count": null,
      "metadata": {
        "id": "lkb3t_YnsPvS",
        "outputId": "3c01444e-8934-43d3-9b20-7edffd891840"
      },
      "outputs": [
        {
          "data": {
            "text/plain": [
              "0.1391531"
            ]
          },
          "execution_count": 15,
          "metadata": {},
          "output_type": "execute_result"
        }
      ],
      "source": [
        "model2.wv.similarity('new', 'yesterday') # low similarity"
      ]
    },
    {
      "cell_type": "code",
      "execution_count": null,
      "metadata": {
        "id": "rKlD2jTisPvS",
        "outputId": "ad393752-f592-403c-99e5-2e12f102df6c"
      },
      "outputs": [
        {
          "data": {
            "text/plain": [
              "0.7363148"
            ]
          },
          "execution_count": 16,
          "metadata": {},
          "output_type": "execute_result"
        }
      ],
      "source": [
        "model2.wv.similarity('swiss', 'franc') # high similarity"
      ]
    },
    {
      "cell_type": "code",
      "execution_count": null,
      "metadata": {
        "id": "guPpvlAPsPvS",
        "outputId": "6d41e6ff-13e9-47e6-d985-6d2251d4ee63"
      },
      "outputs": [
        {
          "data": {
            "text/plain": [
              "0.08821306"
            ]
          },
          "execution_count": 17,
          "metadata": {},
          "output_type": "execute_result"
        }
      ],
      "source": [
        "model2.wv.similarity('swiss', 'tea') # low similarity"
      ]
    },
    {
      "cell_type": "markdown",
      "metadata": {
        "id": "BeKpSpQVsPvS"
      },
      "source": [
        "That makes sense, hopefully! Remember, this is semantic similarity.  \n",
        "\n",
        "Now let's create TF-IDF representations of every document in our dataset."
      ]
    },
    {
      "cell_type": "code",
      "execution_count": null,
      "metadata": {
        "id": "FRHRrLIcsPvS"
      },
      "outputs": [],
      "source": [
        "sentences = [' '.join(i) for i in sentence_data]"
      ]
    },
    {
      "cell_type": "code",
      "execution_count": null,
      "metadata": {
        "id": "k3vXld32sPvS"
      },
      "outputs": [],
      "source": [
        "from sklearn.feature_extraction.text import TfidfVectorizer, CountVectorizer\n",
        "from collections import Counter\n"
      ]
    },
    {
      "cell_type": "code",
      "execution_count": null,
      "metadata": {
        "id": "fkwLA5WcsPvS",
        "outputId": "49f92072-160d-468c-b381-dd0ea6225cc4"
      },
      "outputs": [
        {
          "name": "stdout",
          "output_type": "stream",
          "text": [
            "Reuters CountVectorizer feature names:\n",
            " ['1980s' '3rd' 'ability' ... 'zinc' 'zone' 'zurich']\n",
            "\n",
            "Reuters TfidfVectorizer feature names:\n",
            " ['1980s' '3rd' 'ability' ... 'zinc' 'zone' 'zurich']\n"
          ]
        }
      ],
      "source": [
        "count_vect = CountVectorizer()\n",
        "tfidf_vect = TfidfVectorizer()\n",
        "\n",
        "# Fit transform on the corpus\n",
        "X_count_reuters= count_vect.fit_transform(sentences) # count vectorizer\n",
        "X_tfidf_reuters = tfidf_vect.fit_transform(sentences) # Tfidfvectorizer\n",
        "\n",
        "# Get the feature names (tokens)\n",
        "reuters_feat_names_count = count_vect.get_feature_names_out()\n",
        "reuters_feat_names_tfidf = tfidf_vect.get_feature_names_out()\n",
        "\n",
        "# Print the feature names\n",
        "print(f\"Reuters CountVectorizer feature names:\\n {reuters_feat_names_count}\")\n",
        "print(f\"\\nReuters TfidfVectorizer feature names:\\n {reuters_feat_names_tfidf}\")"
      ]
    },
    {
      "cell_type": "code",
      "execution_count": null,
      "metadata": {
        "id": "q-fsPEPksPvS",
        "outputId": "3ca9a0c6-147e-4086-9b56-7b3632eb14e8"
      },
      "outputs": [
        {
          "name": "stdout",
          "output_type": "stream",
          "text": [
            "CountVectorizer document-term matrix:\n",
            "[[0 0 0 ... 0 0 0]\n",
            " [0 0 0 ... 0 0 0]\n",
            " [0 0 0 ... 0 0 0]\n",
            " ...\n",
            " [0 0 0 ... 0 0 0]\n",
            " [0 0 0 ... 0 0 0]\n",
            " [0 0 0 ... 0 0 0]]\n",
            "\n",
            "TfidfVectorizer document-term matrix:\n",
            "[[0. 0. 0. ... 0. 0. 0.]\n",
            " [0. 0. 0. ... 0. 0. 0.]\n",
            " [0. 0. 0. ... 0. 0. 0.]\n",
            " ...\n",
            " [0. 0. 0. ... 0. 0. 0.]\n",
            " [0. 0. 0. ... 0. 0. 0.]\n",
            " [0. 0. 0. ... 0. 0. 0.]]\n"
          ]
        }
      ],
      "source": [
        "print(\"CountVectorizer document-term matrix:\")\n",
        "print(X_count_reuters.toarray())\n",
        "\n",
        "print(\"\\nTfidfVectorizer document-term matrix:\")\n",
        "print(X_tfidf_reuters.toarray())\n"
      ]
    },
    {
      "cell_type": "code",
      "execution_count": null,
      "metadata": {
        "id": "GF69bNvisPvS"
      },
      "outputs": [],
      "source": [
        "# Get the TF-IDF scores for each document\n",
        "for i in range(len(sentences)):\n",
        "    tfidf_values = X_tfidf_reuters[i].toarray().flatten()  # TF-IDF values for the i-th document\n",
        "    max_tfidf_index = tfidf_values.argmax()  # Index of the term with the highest TF-IDF score\n",
        "    max_tfidf_term = reuters_feat_names_tfidf[max_tfidf_index]  # Term with the highest TF-IDF score\n",
        "    max_tfidf_score = tfidf_values[max_tfidf_index]  # Highest TF-IDF score\n",
        "    # print(f\"Document {i+1} ({categories_sentence_data[i]}): The term '{max_tfidf_term}' has the highest TF-IDF score of {max_tfidf_score}\")"
      ]
    },
    {
      "cell_type": "markdown",
      "metadata": {
        "id": "GdYyuwMcsPvT"
      },
      "source": [
        "Let's plot the TF-IDF representation of each Reuters article. Because the TFIDF vector is a long (and sparse) vector, to plot it we need to project it to two dimensions. We'll use PCA."
      ]
    },
    {
      "cell_type": "code",
      "execution_count": null,
      "metadata": {
        "id": "pwut5EkbsPvT"
      },
      "outputs": [],
      "source": [
        "tmp = np.array([X_tfidf_reuters[i].toarray().tolist()[0] for i in range(len(sentences))])"
      ]
    },
    {
      "cell_type": "code",
      "execution_count": null,
      "metadata": {
        "id": "_h-KcCYqsPvT"
      },
      "outputs": [],
      "source": [
        "from sklearn.decomposition import PCA\n",
        "from sklearn.manifold import TSNE\n",
        "\n",
        "pca = PCA(2)\n",
        "\n",
        "#Transform the data\n",
        "pca_data = pca.fit_transform(tmp)\n",
        "\n",
        "# from sklearn.manifold import TSNE\n",
        "# pca_data = TSNE(n_components=2, learning_rate='auto',\n",
        "                  # init='random', perplexity=3).fit_transform(tmp)\n"
      ]
    },
    {
      "cell_type": "markdown",
      "metadata": {
        "id": "ObKBxqgUsPvT"
      },
      "source": [
        "To plot the pca-projected TFIDF vectors, we will color each point according to the category it belongs in the Reuters dataset."
      ]
    },
    {
      "cell_type": "code",
      "execution_count": null,
      "metadata": {
        "id": "p_nG1CBOsPvT",
        "outputId": "47a92a7c-eb58-4919-8495-ea04fae05c8d"
      },
      "outputs": [
        {
          "data": {
            "image/png": "[encoded data removed]",
            "text/plain": [
              "<Figure size 640x480 with 1 Axes>"
            ]
          },
          "metadata": {},
          "output_type": "display_data"
        }
      ],
      "source": [
        "import matplotlib.pyplot as plt\n",
        "\n",
        "labels = categories_sentence_data\n",
        "#Getting unique labels\n",
        "u_labels = np.unique(labels)\n",
        "\n",
        "for i in u_labels:\n",
        "  tmp_ind = []\n",
        "  for j in range(len(labels)):\n",
        "    tmp_ind.append(True if labels[j] == i else False)\n",
        "  plt.scatter(pca_data[tmp_ind , 0] , pca_data[tmp_ind , 1] , label = i)\n",
        "plt.legend()\n",
        "plt.show()"
      ]
    },
    {
      "cell_type": "markdown",
      "metadata": {
        "id": "nMa5IdiQsPvT"
      },
      "source": [
        "The results are OK, but not great. We can see that articles of the same category cluster close to each other (e.g. all the blue points roughly together, most of the red points taking roughly one area in the plot etc).\n",
        "\n",
        "However, there is also a lot of overlap. This could be because we projected only on two dimensions - with a 3-D plot maybe things could be a bit better separated.\n",
        "\n",
        "In any case, let us now leverage the power of LLMs and compare again.\n",
        "\n",
        "## Transformers\n",
        "\n",
        "    First, let's install `sentence-transformers` from huggingface (link: https://huggingface.co/sentence-transformers)."
      ]
    },
    {
      "cell_type": "code",
      "execution_count": null,
      "metadata": {
        "id": "uMZE3YOQsPvT",
        "outputId": "9f60b2e7-6b4a-4e32-b1f6-442b6b835798"
      },
      "outputs": [
        {
          "name": "stdout",
          "output_type": "stream",
          "text": [
            "Requirement already satisfied: sentence-transformers in /Users/andreasd/.pyenv/versions/3.10.4/envs/llms-3.10.4/lib/python3.10/site-packages (3.0.0)\n",
            "Requirement already satisfied: transformers<5.0.0,>=4.34.0 in /Users/andreasd/.pyenv/versions/3.10.4/envs/llms-3.10.4/lib/python3.10/site-packages (from sentence-transformers) (4.40.1)\n",
            "Requirement already satisfied: tqdm in /Users/andreasd/.pyenv/versions/3.10.4/envs/llms-3.10.4/lib/python3.10/site-packages (from sentence-transformers) (4.66.2)\n",
            "Requirement already satisfied: torch>=1.11.0 in /Users/andreasd/.pyenv/versions/3.10.4/envs/llms-3.10.4/lib/python3.10/site-packages (from sentence-transformers) (2.3.0)\n",
            "Requirement already satisfied: numpy in /Users/andreasd/.pyenv/versions/3.10.4/envs/llms-3.10.4/lib/python3.10/site-packages (from sentence-transformers) (1.26.4)\n",
            "Requirement already satisfied: scikit-learn in /Users/andreasd/.pyenv/versions/3.10.4/envs/llms-3.10.4/lib/python3.10/site-packages (from sentence-transformers) (1.4.2)\n",
            "Requirement already satisfied: scipy in /Users/andreasd/.pyenv/versions/3.10.4/envs/llms-3.10.4/lib/python3.10/site-packages (from sentence-transformers) (1.10.1)\n",
            "Requirement already satisfied: huggingface-hub>=0.15.1 in /Users/andreasd/.pyenv/versions/3.10.4/envs/llms-3.10.4/lib/python3.10/site-packages (from sentence-transformers) (0.22.2)\n",
            "Requirement already satisfied: Pillow in /Users/andreasd/.pyenv/versions/3.10.4/envs/llms-3.10.4/lib/python3.10/site-packages (from sentence-transformers) (10.3.0)\n",
            "Requirement already satisfied: filelock in /Users/andreasd/.pyenv/versions/3.10.4/envs/llms-3.10.4/lib/python3.10/site-packages (from huggingface-hub>=0.15.1->sentence-transformers) (3.13.4)\n",
            "Requirement already satisfied: fsspec>=2023.5.0 in /Users/andreasd/.pyenv/versions/3.10.4/envs/llms-3.10.4/lib/python3.10/site-packages (from huggingface-hub>=0.15.1->sentence-transformers) (2024.3.1)\n",
            "Requirement already satisfied: packaging>=20.9 in /Users/andreasd/.pyenv/versions/3.10.4/envs/llms-3.10.4/lib/python3.10/site-packages (from huggingface-hub>=0.15.1->sentence-transformers) (24.0)\n",
            "Requirement already satisfied: pyyaml>=5.1 in /Users/andreasd/.pyenv/versions/3.10.4/envs/llms-3.10.4/lib/python3.10/site-packages (from huggingface-hub>=0.15.1->sentence-transformers) (6.0.1)\n",
            "Requirement already satisfied: requests in /Users/andreasd/.pyenv/versions/3.10.4/envs/llms-3.10.4/lib/python3.10/site-packages (from huggingface-hub>=0.15.1->sentence-transformers) (2.31.0)\n",
            "Requirement already satisfied: typing-extensions>=3.7.4.3 in /Users/andreasd/.pyenv/versions/3.10.4/envs/llms-3.10.4/lib/python3.10/site-packages (from huggingface-hub>=0.15.1->sentence-transformers) (4.11.0)\n",
            "Requirement already satisfied: sympy in /Users/andreasd/.pyenv/versions/3.10.4/envs/llms-3.10.4/lib/python3.10/site-packages (from torch>=1.11.0->sentence-transformers) (1.12)\n",
            "Requirement already satisfied: networkx in /Users/andreasd/.pyenv/versions/3.10.4/envs/llms-3.10.4/lib/python3.10/site-packages (from torch>=1.11.0->sentence-transformers) (3.3)\n",
            "Requirement already satisfied: jinja2 in /Users/andreasd/.pyenv/versions/3.10.4/envs/llms-3.10.4/lib/python3.10/site-packages (from torch>=1.11.0->sentence-transformers) (3.1.3)\n",
            "Requirement already satisfied: regex!=2019.12.17 in /Users/andreasd/.pyenv/versions/3.10.4/envs/llms-3.10.4/lib/python3.10/site-packages (from transformers<5.0.0,>=4.34.0->sentence-transformers) (2024.4.16)\n",
            "Requirement already satisfied: tokenizers<0.20,>=0.19 in /Users/andreasd/.pyenv/versions/3.10.4/envs/llms-3.10.4/lib/python3.10/site-packages (from transformers<5.0.0,>=4.34.0->sentence-transformers) (0.19.1)\n",
            "Requirement already satisfied: safetensors>=0.4.1 in /Users/andreasd/.pyenv/versions/3.10.4/envs/llms-3.10.4/lib/python3.10/site-packages (from transformers<5.0.0,>=4.34.0->sentence-transformers) (0.4.3)\n",
            "Requirement already satisfied: joblib>=1.2.0 in /Users/andreasd/.pyenv/versions/3.10.4/envs/llms-3.10.4/lib/python3.10/site-packages (from scikit-learn->sentence-transformers) (1.4.0)\n",
            "Requirement already satisfied: threadpoolctl>=2.0.0 in /Users/andreasd/.pyenv/versions/3.10.4/envs/llms-3.10.4/lib/python3.10/site-packages (from scikit-learn->sentence-transformers) (3.4.0)\n",
            "Requirement already satisfied: MarkupSafe>=2.0 in /Users/andreasd/.pyenv/versions/3.10.4/envs/llms-3.10.4/lib/python3.10/site-packages (from jinja2->torch>=1.11.0->sentence-transformers) (2.1.5)\n",
            "Requirement already satisfied: charset-normalizer<4,>=2 in /Users/andreasd/.pyenv/versions/3.10.4/envs/llms-3.10.4/lib/python3.10/site-packages (from requests->huggingface-hub>=0.15.1->sentence-transformers) (3.3.2)\n",
            "Requirement already satisfied: idna<4,>=2.5 in /Users/andreasd/.pyenv/versions/3.10.4/envs/llms-3.10.4/lib/python3.10/site-packages (from requests->huggingface-hub>=0.15.1->sentence-transformers) (3.7)\n",
            "Requirement already satisfied: urllib3<3,>=1.21.1 in /Users/andreasd/.pyenv/versions/3.10.4/envs/llms-3.10.4/lib/python3.10/site-packages (from requests->huggingface-hub>=0.15.1->sentence-transformers) (2.2.1)\n",
            "Requirement already satisfied: certifi>=2017.4.17 in /Users/andreasd/.pyenv/versions/3.10.4/envs/llms-3.10.4/lib/python3.10/site-packages (from requests->huggingface-hub>=0.15.1->sentence-transformers) (2024.2.2)\n",
            "Requirement already satisfied: mpmath>=0.19 in /Users/andreasd/.pyenv/versions/3.10.4/envs/llms-3.10.4/lib/python3.10/site-packages (from sympy->torch>=1.11.0->sentence-transformers) (1.3.0)\n"
          ]
        }
      ],
      "source": [
        "!pip install sentence-transformers"
      ]
    },
    {
      "cell_type": "markdown",
      "metadata": {
        "id": "xss56H9KsPvT"
      },
      "source": [
        "Then, we load the library and have to specify a pre-trained model. You can go on the documentation webpage (https://www.sbert.net/docs/sentence_transformer/pretrained_models.html) and explore the various models offered."
      ]
    },
    {
      "cell_type": "code",
      "execution_count": null,
      "metadata": {
        "id": "XyB0jz5osPvX",
        "outputId": "42360bff-a4aa-49bd-f800-02e69b7f91a6"
      },
      "outputs": [
        {
          "name": "stderr",
          "output_type": "stream",
          "text": [
            "/Users/andreasd/.pyenv/versions/3.10.4/envs/llms-3.10.4/lib/python3.10/site-packages/sentence_transformers/cross_encoder/CrossEncoder.py:11: TqdmExperimentalWarning: Using `tqdm.autonotebook.tqdm` in notebook mode. Use `tqdm.tqdm` instead to force console mode (e.g. in jupyter console)\n",
            "  from tqdm.autonotebook import tqdm, trange\n"
          ]
        }
      ],
      "source": [
        "from sentence_transformers import SentenceTransformer\n",
        "from tqdm import tqdm\n",
        "sentence_transformer_model=\"paraphrase-MiniLM-L12-v2\"\n",
        "sentence_encoder = SentenceTransformer(sentence_transformer_model)"
      ]
    },
    {
      "cell_type": "markdown",
      "metadata": {
        "id": "Z2LGWVO7sPvX"
      },
      "source": [
        "We will further reshape our data such that they can be processed by the transformer, we will have a list of documents."
      ]
    },
    {
      "cell_type": "code",
      "execution_count": null,
      "metadata": {
        "id": "xm1_POipsPvX"
      },
      "outputs": [],
      "source": [
        "document_data = []\n",
        "categories_document_data = []\n",
        "\n",
        "\n",
        "for j in range(len(fields_for_categories)):\n",
        "  for i in reuters.sents(fields_for_categories[j]):\n",
        "      # cur = [tmp for tmp in clean_text1(' '.join(i)).split(' ')]\n",
        "      # Remove standalone numbers\n",
        "      # cur = ' '.join([tmp for tmp in cur if not tmp.isnumeric()])\n",
        "      document_data.append(' '.join(i))\n",
        "      categories_document_data.append(categories[j])\n"
      ]
    },
    {
      "cell_type": "code",
      "execution_count": null,
      "metadata": {
        "id": "Wu0b_5QksPvX",
        "outputId": "df859681-371a-44fa-daa9-e41ad80f7a13"
      },
      "outputs": [
        {
          "data": {
            "text/plain": [
              "'NICKEL PRICES UNLIKELY TO RISE MUCH - SHEARSON Nickel prices are unlikely to rise significantly from current levels unless further steps are taken to reduce production , Shearson Lehman Brothers said in its quarterly nickel market report .'"
            ]
          },
          "execution_count": 29,
          "metadata": {},
          "output_type": "execute_result"
        }
      ],
      "source": [
        "document_data[0]"
      ]
    },
    {
      "cell_type": "markdown",
      "metadata": {
        "id": "lAcfECJKsPvX"
      },
      "source": [
        "We encode the data using the LLM. This is similar to creating a word vector from word2vec, in that the output is again a continous dense represnetation. However here:\n",
        "- The model can take sentences as input\n",
        "- The model is pre-trained on many many data. This means that it distills a lot of `world knowledge`, in addition to \"understanding\" syntax, grammar etc."
      ]
    },
    {
      "cell_type": "code",
      "execution_count": null,
      "metadata": {
        "id": "tEXu4zuEsPvX",
        "outputId": "1e1480cf-138f-4366-f2ba-66de226d2757",
        "colab": {
          "referenced_widgets": [
            "b064ce483eb240fe954f8d15e7500dde"
          ]
        }
      },
      "outputs": [
        {
          "data": {
            "application/vnd.jupyter.widget-view+json": {
              "model_id": "b064ce483eb240fe954f8d15e7500dde",
              "version_major": 2,
              "version_minor": 0
            },
            "text/plain": [
              "Batches:   0%|          | 0/21 [00:00<?, ?it/s]"
            ]
          },
          "metadata": {},
          "output_type": "display_data"
        }
      ],
      "source": [
        "encoded = sentence_encoder.encode(document_data, show_progress_bar=True)"
      ]
    },
    {
      "cell_type": "markdown",
      "metadata": {
        "id": "gPIFrnrHsPvX"
      },
      "source": [
        "Now we'll plot again the projected representations for each article (t-SNE is better here)."
      ]
    },
    {
      "cell_type": "code",
      "execution_count": null,
      "metadata": {
        "id": "40d37_mwsPvX",
        "outputId": "d399ffa9-7a72-4b58-dd71-7a4a0bcca9b8"
      },
      "outputs": [
        {
          "name": "stderr",
          "output_type": "stream",
          "text": [
            "huggingface/tokenizers: The current process just got forked, after parallelism has already been used. Disabling parallelism to avoid deadlocks...\n",
            "To disable this warning, you can either:\n",
            "\t- Avoid using `tokenizers` before the fork if possible\n",
            "\t- Explicitly set the environment variable TOKENIZERS_PARALLELISM=(true | false)\n"
          ]
        }
      ],
      "source": [
        "# dim_red_data = pca.fit_transform(encoded)\n",
        "dim_red_data = TSNE(n_components=2, learning_rate='auto',\n",
        "                  init='random', perplexity=3).fit_transform(encoded)"
      ]
    },
    {
      "cell_type": "code",
      "execution_count": null,
      "metadata": {
        "id": "G7inPLyKsPvY",
        "outputId": "fd3e8048-8369-4c18-ebe7-c5413e46f969"
      },
      "outputs": [
        {
          "data": {
            "image/png": "[encoded data removed]",
            "text/plain": [
              "<Figure size 640x480 with 1 Axes>"
            ]
          },
          "metadata": {},
          "output_type": "display_data"
        }
      ],
      "source": [
        "labels = categories_document_data\n",
        "#Getting unique labels\n",
        "u_labels = ['gold', 'silver', 'gas', 'heat', 'crude', 'tea', 'barley' ]\n",
        "\n",
        "for i in u_labels:\n",
        "  tmp_ind = []\n",
        "  for j in range(len(labels)):\n",
        "    tmp_ind.append(True if labels[j] == i else False)\n",
        "  plt.scatter(dim_red_data[tmp_ind , 0] , dim_red_data[tmp_ind , 1] , label = i)\n",
        "plt.legend()\n",
        "plt.show()"
      ]
    },
    {
      "cell_type": "markdown",
      "metadata": {
        "id": "nL6RBfw8sPvY"
      },
      "source": [
        "This should look better in terms of separation."
      ]
    },
    {
      "cell_type": "markdown",
      "metadata": {
        "id": "n7teX02xsPvY"
      },
      "source": [
        "## Exercise: Play with the encoder, be creative!"
      ]
    },
    {
      "cell_type": "markdown",
      "metadata": {
        "id": "rFDYWoHCsPvY"
      },
      "source": [
        "The sentence encoder is very easy to use and very powerful! You can bring in your own ideas about how to use it. You can consider doing clustering, for example. It can transform long texts into continous sequences, either in batch (as above) or one by one, e.g."
      ]
    },
    {
      "cell_type": "code",
      "execution_count": null,
      "metadata": {
        "id": "zGzfpN2EsPvY",
        "outputId": "fee245d2-9b48-47a7-c92e-aa64b2c02767"
      },
      "outputs": [
        {
          "data": {
            "text/plain": [
              "array([ 0.02957506,  0.10906983, -0.07986979,  0.24416006,  0.2030941 ,\n",
              "        0.01806907,  0.79616004,  0.22748263,  0.13852295, -0.05697105],\n",
              "      dtype=float32)"
            ]
          },
          "execution_count": 33,
          "metadata": {},
          "output_type": "execute_result"
        }
      ],
      "source": [
        "sentence_encoder.encode('This is my dummy sentence')[0:10]"
      ]
    }
  ],
  "metadata": {
    "accelerator": "GPU",
    "colab": {
      "gpuType": "T4",
      "provenance": [],
      "include_colab_link": true
    },
    "kernelspec": {
      "display_name": "Python 3 (ipykernel)",
      "language": "python",
      "name": "python3"
    },
    "language_info": {
      "codemirror_mode": {
        "name": "ipython",
        "version": 3
      },
      "file_extension": ".py",
      "mimetype": "text/x-python",
      "name": "python",
      "nbconvert_exporter": "python",
      "pygments_lexer": "ipython3",
      "version": "3.10.4"
    }
  },
  "nbformat": 4,
  "nbformat_minor": 0
}